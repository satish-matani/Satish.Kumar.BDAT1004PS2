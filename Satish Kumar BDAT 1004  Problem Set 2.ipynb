{
 "cells": [
  {
   "cell_type": "markdown",
   "id": "97435e80",
   "metadata": {},
   "source": [
    "# Question 1\n",
    "\n",
    "Consider the following Python module:</br>\n",
    "a = 0</br>\n",
    "def b():</br>\n",
    "global a</br>\n",
    "a = c(a)</br>\n",
    "def c(a):</br>\n",
    "return a + 2</br>\n",
    "After importing the module into the interpreter, you execute:</br>\n",
    "b()</br>\n",
    "b()</br>\n",
    "b()</br>\n",
    "a</br>\n",
    "?</br>\n",
    "What value is displayed when the last expression (a) is evaluated? Explain your\n",
    "answer by indicating what happens in every executed statement."
   ]
  },
  {
   "cell_type": "code",
   "execution_count": 4,
   "id": "b0ebb7f1",
   "metadata": {},
   "outputs": [
    {
     "data": {
      "text/plain": [
       "6"
      ]
     },
     "execution_count": 4,
     "metadata": {},
     "output_type": "execute_result"
    }
   ],
   "source": [
    "a = 0\n",
    "\n",
    "def b():\n",
    "    global a\n",
    "    a = c(a)\n",
    "\n",
    "def c(a):\n",
    "    return a + 2\n",
    "\n",
    "b()\n",
    "b()\n",
    "b()\n",
    "a"
   ]
  },
  {
   "cell_type": "markdown",
   "id": "1d2354c8",
   "metadata": {},
   "source": [
    "The value of a when last expression is evaluated is 6\n",
    "\n",
    "# Explaination\n",
    "\n",
    "a is defined as 0 at first\n",
    "\n",
    "when b() is called for first time, it takes the value of a which is 0 and passes the value of a to function c which assigns the value to a which is 0+2 so now a becomes 2.\n",
    "\n",
    "Again when b() is called then the value of a is already 2 so it takes that value and passes that value as an argument to c function and which returns the value as 2+2 = 4 which is assigned to the variable a by b()\n",
    "\n",
    "when b() is called for third time, it again takes the updated value of a which is 4 and passes this value as an argument and calls c() and passes value of a which is 4 and c() returns the value 4+2 = 6 and b() assigns this value to a \n",
    "\n",
    "so at last when printing the value of a we get the answer as 6"
   ]
  },
  {
   "cell_type": "markdown",
   "id": "d76a0765",
   "metadata": {},
   "source": [
    "# Question 2\n",
    "\n",
    "Function fileLength(), given to you, takes the name of a file as input and returns the length of the file:</br></br>\n",
    "fileLength('midterm.py')</br>\n",
    "284</br>\n",
    "fileLength('idterm.py')</br>\n",
    "Traceback (most recent call last):</br>\n",
    "File \"<pyshell#34>\", line 1, in <module></br>\n",
    "fileLength('idterm.py')</br>\n",
    "File \"/Users/me/midterm.py\", line 3, in file Length</br>\n",
    "infile = open(filename)</br>\n",
    "FileNotFoundError: [Errno 2] No such file or directory:</br>\n",
    "'idterm.py'</br></br>\n",
    "As shown above, if the file cannot be found by the interpreter or if it cannot be read\n",
    "as a text file, an exception will be raised. Modify function fileLength() so that a\n",
    "friendly message is printed instead:</br></br>\n",
    "fileLength('midterm.py')</br>\n",
    "358</br>\n",
    "fileLength('idterm.py')</br>\n",
    "File idterm.py not found.</br>"
   ]
  },
  {
   "cell_type": "code",
   "execution_count": 9,
   "id": "b19f1f66",
   "metadata": {},
   "outputs": [
    {
     "name": "stdout",
     "output_type": "stream",
     "text": [
      "123\n",
      "File idterm.py not found.\n"
     ]
    }
   ],
   "source": [
    "def file_length(file_name):\n",
    "    try:\n",
    "        file = open(file_name)\n",
    "        contents = file.read()\n",
    "        file.close()\n",
    "        print(len(contents))\n",
    "    except FileNotFoundError: # Handle the FileNotFoundError\n",
    "        print(f\"File {file_name} not found.\")\n",
    "    except Exception as e: # Handle other exceptions\n",
    "        print(f\"An error occurred: {e}\") \n",
    "        \n",
    "file_length('filelength.txt')\n",
    "file_length('idterm.py')"
   ]
  },
  {
   "cell_type": "markdown",
   "id": "7b693167",
   "metadata": {},
   "source": [
    "# Question 3\n",
    "Write a class named Marsupial that can be used as shown below:</br></br>\n",
    "m = Marsupial()</br>\n",
    "m.put_in_pouch('doll')</br>\n",
    "m.put_in_pouch('firetruck')</br>\n",
    "m.put_in_pouch('kitten')</br>\n",
    "m.pouch_contents()</br>\n",
    "['doll', 'firetruck', 'kitten']</br></br>\n",
    "\n",
    "Now write a class named Kangaroo as a subclass of Marsupial that inherits all the\n",
    "attributes of Marsupial and also:</br></br>\n",
    "a. extends the Marsupial __init__ constructor to take, as input, the\n",
    "coordinates x and y of the Kangaroo object,</br>\n",
    "b. supports method jump that takes number values dx and dy as input and\n",
    "moves the kangaroo by dx units along the x-axis and by dy units along the y-\n",
    "axis, and</br>\n",
    "c. overloads the __str__ operator so it behaves as shown below.</br></br>\n",
    "k = Kangaroo(0,0)</br>\n",
    "print(k)</br>\n",
    "I am a Kangaroo located at coordinates (0,0)</br>\n",
    "k.put_in_pouch('doll')</br>\n",
    "k.put_in_pouch('firetruck')</br>\n",
    "k.put_in_pouch('kitten')</br>\n",
    "k.pouch_contents()</br>\n",
    "['doll', 'firetruck', 'kitten']</br>\n",
    "k.jump(1,0)</br>\n",
    "k.jump(1,0)</br>\n",
    "k.jump(1,0)</br>\n",
    "print(k)</br>\n",
    "I am a Kangaroo located at coordinates (3,0)</br>"
   ]
  },
  {
   "cell_type": "code",
   "execution_count": 16,
   "id": "b8e2c5fa",
   "metadata": {},
   "outputs": [
    {
     "name": "stdout",
     "output_type": "stream",
     "text": [
      "Super class: ['doll', 'firetruck', 'kitten']\n",
      "Kangaroo class: I am a Kangaroo located at coordinates (0,0)\n",
      "Kangaroo class: ['doll', 'firetruck', 'kitten']\n",
      "Kangaroo at after jumping 3 times: I am a Kangaroo located at coordinates (3,0)\n"
     ]
    }
   ],
   "source": [
    "class Marsupial:\n",
    "    def __init__(self):\n",
    "        self.lst = []\n",
    "\n",
    "    def put_in_pouch(self, animal):\n",
    "        self.lst.append(animal)\n",
    "\n",
    "    def pouch_contents(self):\n",
    "        return self.lst\n",
    "\n",
    "\n",
    "class Kangaroo(Marsupial):\n",
    "    def __init__(self, cox, coy):\n",
    "        super().__init__() # Extending Marsupial class __init__() constructor\n",
    "        self.cox = cox\n",
    "        self.coy = coy\n",
    "\n",
    "    def jump(self, dx, dy): # taking dx and dy arguments to move on x-axis and y-axis\n",
    "        self.cox += dx\n",
    "        self.coy += dy\n",
    "\n",
    "    def __str__(self): # Overloading __str__ function\n",
    "        return f\"I am a Kangaroo located at coordinates ({self.cox},{self.coy})\"\n",
    "    \n",
    "\n",
    "m = Marsupial()\n",
    "m.put_in_pouch('doll')\n",
    "m.put_in_pouch('firetruck')\n",
    "m.put_in_pouch('kitten')\n",
    "print(f\"Super class: {m.pouch_contents()}\")\n",
    "\n",
    "k = Kangaroo(0, 0)\n",
    "print(f\"Kangaroo class: {k}\")\n",
    "k.put_in_pouch('doll')\n",
    "k.put_in_pouch('firetruck')\n",
    "k.put_in_pouch('kitten')\n",
    "print(f\"Kangaroo class: {k.pouch_contents()}\")\n",
    "k.jump(1, 0)\n",
    "k.jump(1, 0)\n",
    "k.jump(1, 0)\n",
    "print(f\"Kangaroo at after jumping 3 times: {k}\")\n"
   ]
  },
  {
   "cell_type": "markdown",
   "id": "b670bff5",
   "metadata": {},
   "source": [
    "# Question 4\n",
    "\n",
    "Write function collatz() that takes a positive integer x as input and prints the\n",
    "Collatz sequence starting at x. A Collatz sequence is obtained by repeatedly applying\n",
    "this rule to the previous number x in the sequence:</br></br>\n",
    "x = { 𝑥/2 𝑖𝑓 𝑥 𝑖𝑠 𝑒𝑣𝑒𝑛\n",
    "3𝑥 + 1 𝑖𝑓 𝑥 𝑖𝑠 𝑜𝑑𝑑</br></br>\n",
    "Your function should stop when the sequence gets to number 1. Your\n",
    "implementation must be recursive, without any loops.</br></br>\n",
    "\n",
    "collatz(1)</br>\n",
    "1</br>\n",
    "collatz(10)</br>\n",
    "10</br>\n",
    "5</br>\n",
    "16</br>\n",
    "8</br>\n",
    "4</br>\n",
    "2</br>\n",
    "1</br>"
   ]
  },
  {
   "cell_type": "code",
   "execution_count": 25,
   "id": "a7ca05eb",
   "metadata": {},
   "outputs": [
    {
     "name": "stdout",
     "output_type": "stream",
     "text": [
      "\n",
      "Collatz(1): \n",
      "\n",
      "1\n",
      "\n",
      "Collatz(10): \n",
      "\n",
      "10\n",
      "5\n",
      "16\n",
      "8\n",
      "4\n",
      "2\n",
      "1\n"
     ]
    }
   ],
   "source": [
    "def collatz(x):\n",
    "    \n",
    "    print(x) # printing the number itself\n",
    "    \n",
    "    if x == 1:\n",
    "        return\n",
    "    elif x % 2 == 0:\n",
    "        collatz(x // 2)\n",
    "    else:\n",
    "        collatz(3 * x + 1)\n",
    "        \n",
    "print(\"\\nCollatz(1): \\n\")        \n",
    "collatz(1)\n",
    "print(\"\\nCollatz(10): \\n\")\n",
    "collatz(10)"
   ]
  },
  {
   "cell_type": "markdown",
   "id": "c0c54a7a",
   "metadata": {},
   "source": [
    "# Question 5\n",
    "\n",
    "Write a recursive method binary() that takes a non-negative\n",
    "integer n and prints the binary representation of integer n.</br></br>\n",
    "binary(0)</br>\n",
    "0</br>\n",
    "binary(1)</br>\n",
    "1</br>\n",
    "binary(3)</br>\n",
    "11</br>\n",
    "binary(9)</br>\n",
    "1001</br>"
   ]
  },
  {
   "cell_type": "code",
   "execution_count": 44,
   "id": "a4c92a94",
   "metadata": {},
   "outputs": [
    {
     "name": "stdout",
     "output_type": "stream",
     "text": [
      "\n",
      "binary(0): \n",
      "\n",
      "0\n",
      "\n",
      "binary(1): \n",
      "\n",
      "1\n",
      "\n",
      "binary(3): \n",
      "\n",
      "11\n",
      "\n",
      "binary(9): \n",
      "\n",
      "1001"
     ]
    }
   ],
   "source": [
    "def binary(n):\n",
    "    #when n is 0\n",
    "    if n == 0:\n",
    "        print(0)\n",
    "    elif n == 1:\n",
    "        print(1,end='')\n",
    "    else:\n",
    "        #call binary() with n // 2 and printing the remainder\n",
    "        binary(n // 2)\n",
    "        print(n % 2, end='')\n",
    "    \n",
    "print(\"\\nbinary(0): \\n\")        \n",
    "binary(0)\n",
    "print(\"\\nbinary(1): \\n\")\n",
    "binary(1)\n",
    "print(\"\\n\\nbinary(3): \\n\")\n",
    "binary(3)\n",
    "print(\"\\n\\nbinary(9): \\n\")\n",
    "binary(9)"
   ]
  },
  {
   "cell_type": "markdown",
   "id": "069dcf79",
   "metadata": {},
   "source": [
    "# Question 6\n",
    "\n",
    "Implement a class named HeadingParser that can be used to parse an HTML\n",
    "document, and retrieve and print all the headings in the document. You should\n",
    "implement your class as a subclass of HTMLParser, defined in Standard Library\n",
    "module html.parser. When fed a string containing HTML code, your class should\n",
    "print the headings, one per line and in the order in which they appear in the\n",
    "document. Each heading should be indented as follows: an h1 heading should have indentation 0, and h2 heading should have indentation 1, etc. Test your\n",
    "implementation using w3c.html.</br></br>\n",
    "infile = open('w3c.html')</br>\n",
    "content = infile.read()</br>\n",
    "infile.close()</br>\n",
    "hp = HeadingParser()</br>\n",
    "hp.feed(content)</br>\n",
    "W3C Mission</br>\n",
    "Principles"
   ]
  },
  {
   "cell_type": "code",
   "execution_count": 46,
   "id": "09289e76",
   "metadata": {},
   "outputs": [
    {
     "name": "stdout",
     "output_type": "stream",
     "text": [
      "W3C Mission\n",
      " Principles\n"
     ]
    }
   ],
   "source": [
    "from html.parser import HTMLParser\n",
    "\n",
    "class HeadingParser(HTMLParser):\n",
    "    def __init__(self):\n",
    "        super().__init__()\n",
    "        self.in_heading = False\n",
    "        self.indentation = 0\n",
    "\n",
    "    def handle_starttag(self, tag, attrs):\n",
    "        if tag.startswith('h') and len(tag) == 2 and tag[1].isdigit():\n",
    "            self.in_heading = True\n",
    "            self.indentation = int(tag[1]) - 1\n",
    "\n",
    "    def handle_endtag(self, tag):\n",
    "        if self.in_heading:\n",
    "            self.in_heading = False\n",
    "\n",
    "    def handle_data(self, data):\n",
    "        if self.in_heading:\n",
    "            print(' ' * self.indentation + data)\n",
    "\n",
    "\n",
    "infile = open('w3c.html')\n",
    "content = infile.read()\n",
    "infile.close()\n",
    "hp = HeadingParser()\n",
    "hp.feed(content)"
   ]
  },
  {
   "cell_type": "markdown",
   "id": "d5fddae2",
   "metadata": {},
   "source": [
    "# Question 7\n",
    "\n",
    "Implement recursive function webdir() that takes as input: a URL (as a string) and\n",
    "non-negative integers depth and indent. Your function should visit every web\n",
    "page reachable from the starting URL web page in depth clicks or less, and print\n",
    "each web page's URL. As shown below, indentation, specified by indent, should\n",
    "be used to indicate the depth of a URL.</br></br>\n",
    "webdir('http://reed.cs.depaul.edu/lperkovic/csc242/test1.html'\n",
    ", 2, 0)</br>\n",
    "http://reed.cs.depaul.edu/lperkovic/csc242/test1.html</br>\n",
    "http://reed.cs.depaul.edu/lperkovic/csc242/test2.html</br>\n",
    "http://reed.cs.depaul.edu/lperkovic/csc242/test4.html</br>\n",
    "http://reed.cs.depaul.edu/lperkovic/csc242/test3.html</br>\n",
    "http://reed.cs.depaul.edu/lperkovic/csc242/test4.html</br>"
   ]
  },
  {
   "cell_type": "code",
   "execution_count": 5,
   "id": "f9d744d0",
   "metadata": {},
   "outputs": [
    {
     "name": "stdout",
     "output_type": "stream",
     "text": [
      "Error accessing http://reed.cs.depaul.edu/lperkovic/csc242/test1.html: HTTP Error 404: \n"
     ]
    }
   ],
   "source": [
    "from urllib.request import urlopen\n",
    "from html.parser import HTMLParser\n",
    "from urllib.parse import urljoin, urlparse\n",
    "\n",
    "class LinkParser(HTMLParser):\n",
    "    def __init__(self, base_url):\n",
    "        super().__init__()\n",
    "        self.base_url = base_url\n",
    "        self.links = []\n",
    "\n",
    "    def handle_starttag(self, tag, attrs):\n",
    "        if tag == 'a':\n",
    "            for attr, value in attrs:\n",
    "                if attr == 'href':\n",
    "                    self.links.append(urljoin(self.base_url, value))\n",
    "\n",
    "def webdir(url, depth, indent):\n",
    "    \n",
    "    try:\n",
    "        with urlopen(url) as response:\n",
    "            html_content = response.read().decode('utf-8')\n",
    "    except Exception as e:\n",
    "        print(f\"Error accessing {url}: {e}\")\n",
    "        return\n",
    "\n",
    "    parser = LinkParser(url)\n",
    "    parser.feed(html_content)\n",
    "    \n",
    "    print(' ' * indent + url)\n",
    "\n",
    "    if depth > 0:\n",
    "        for link in parser.links:\n",
    "            webdir(link, depth - 1, indent + 2)\n",
    "\n",
    "# Usage\n",
    "\n",
    "webdir('http://reed.cs.depaul.edu/lperkovic/csc242/test1.html', 1, 0) #getting the error in accessing this website\n",
    "\n",
    "\n",
    "\n"
   ]
  },
  {
   "cell_type": "code",
   "execution_count": 7,
   "id": "e4aa482d",
   "metadata": {},
   "outputs": [
    {
     "name": "stdout",
     "output_type": "stream",
     "text": [
      "https://www.facebook.com\n",
      "  https://www.facebook.com\n",
      "  https://www.facebook.com/recover/initiate/?privacy_mutation_token=eyJ0eXBlIjowLCJjcmVhdGlvbl90aW1lIjoxNzA5MzIyMzExLCJjYWxsc2l0ZV9pZCI6MzgxMjI5MDc5NTc1OTQ2fQ%3D%3D&ars=facebook_login\n",
      "  https://www.facebook.com\n",
      "  https://www.facebook.com/pages/create/?ref_type=registration_form\n",
      "  https://fr-ca.facebook.com/\n",
      "  https://es-la.facebook.com/\n",
      "  https://zh-cn.facebook.com/\n",
      "  https://ko-kr.facebook.com/\n",
      "  https://ja-jp.facebook.com/\n",
      "  https://pt-br.facebook.com/\n",
      "  https://de-de.facebook.com/\n",
      "  https://it-it.facebook.com/\n",
      "  https://ar-ar.facebook.com/\n",
      "  https://hi-in.facebook.com/\n",
      "  https://www.facebook.com\n",
      "  https://www.facebook.com/reg/\n",
      "  https://www.facebook.com/login/\n",
      "  https://messenger.com/\n",
      "  https://www.facebook.com/lite/\n",
      "  https://www.facebook.com/watch/\n",
      "  https://www.facebook.com/places/\n",
      "  https://www.facebook.com/games/\n",
      "  https://www.facebook.com/marketplace/\n",
      "  https://pay.facebook.com/\n",
      "  https://www.meta.com/\n",
      "  https://www.meta.com/quest/\n",
      "  https://l.facebook.com/l.php?u=https%3A%2F%2Fimagine.meta.com%2F&h=AT17r6iD9kNmNPsyzRrxMAUHY9l6jR2gTlXzEKHShqdbALW0hzPY9F8D-tyxgf9RQTGd0TIWrz3mPEr8vzL0Aj9Q-_Z2-ojhfSrKFZmJ0mUXWI2W3A5-YCdCYL5bqmvI2c77jGToL5UIhmT9\n",
      "  https://l.facebook.com/l.php?u=https%3A%2F%2Fwww.instagram.com%2F&h=AT1Vd8Tk6i8WLaFgNuPt4S6iOaGSOivVWdTPK2IRC2VTWUBON8sj-dP_RI_0TaiBkHSLJxq7qaMEwuLeCoilAyA96_ZyE9aqRMaud8xbiHvz5ITwmPSgt9pMufbvF721Mdg5dBdJJjaczBTp\n",
      "  https://www.threads.net/\n",
      "  https://www.facebook.com/fundraisers/\n",
      "  https://www.facebook.com/biz/directory/\n",
      "  https://www.facebook.com/votinginformationcenter/?entry_point=c2l0ZQ%3D%3D\n",
      "  https://www.facebook.com/privacy/policy/?entry_point=facebook_page_footer\n",
      "  https://www.facebook.com/privacy/center/?entry_point=facebook_page_footer\n",
      "  https://www.facebook.com/groups/discover/\n",
      "  https://about.meta.com/\n",
      "  https://www.facebook.com/ad_campaign/landing.php?placement=pflo&campaign_id=402047449186&nav_source=unknown&extra_1=auto\n",
      "  https://www.facebook.com/pages/create/?ref_type=site_footer\n",
      "  https://developers.facebook.com/?ref=pf\n",
      "  https://www.facebook.com/careers/?ref=pf\n",
      "  https://www.facebook.com/policies/cookies/\n",
      "  https://www.facebook.com/help/568137493302217\n",
      "  https://www.facebook.com/policies?ref=pf\n",
      "  https://www.facebook.com/help/?ref=pf\n",
      "  https://www.facebook.com/help/637205020878504\n",
      "  https://www.facebook.com/settings\n",
      "  https://www.facebook.com/allactivity?privacy_source=activity_log_top_menu\n"
     ]
    }
   ],
   "source": [
    "webdir('https://www.facebook.com', 1, 0)"
   ]
  },
  {
   "cell_type": "markdown",
   "id": "cb1db9f2",
   "metadata": {},
   "source": [
    "# Question 8\n",
    "\n",
    "Write SQL queries on the below database table that return:</br>\n",
    "a) All the temperature data.</br>\n",
    "b) All the cities, but without repetition.</br>\n",
    "c) All the records for India.</br>\n",
    "d) All the Fall records.</br>\n",
    "e) The city, country, and season for which the average rainfall is between 200 and 400 millimeters.</br>\n",
    "f) The city and country for which the average Fall temperature is above 20\n",
    "degrees, in increasing temperature order.</br>\n",
    "g) The total annual rainfall for Cairo.</br>\n",
    "h) The total rainfall for each season.</br></br></br>\n",
    "City Country Season Temperature(C) Rainfall(mm)</br>\n",
    "Mumbai India Winter 24.8 5.9</br>\n",
    "Mumbai India Spring 28.4 16.2</br>\n",
    "Mumbai India Summer 27.9 1549.4</br>\n",
    "Mumbai India Fall 27.6 346.0</br>\n",
    "London United Kingdom Winter 4.2 207.7</br>\n",
    "London United Kingdom Spring 8.3 169.6</br>\n",
    "London United Kingdom Summer 15.7 157.0</br>\n",
    "London United Kingdom Fall 10.4 218.5</br>\n",
    "Cairo Egypt Winter 13.6 16.5</br>\n",
    "Cairo Egypt Spring 20.7 6.5</br>\n",
    "Cairo Egypt Summer 27.7 0.1</br>\n",
    "Cairo Egypt Fall 22.2 4.5</br>"
   ]
  },
  {
   "cell_type": "code",
   "execution_count": 18,
   "id": "93d286c8",
   "metadata": {},
   "outputs": [
    {
     "name": "stdout",
     "output_type": "stream",
     "text": [
      "a) All the temperature column data.\n",
      "\n",
      "24.8\n",
      "28.4\n",
      "27.9\n",
      "27.6\n",
      "4.2\n",
      "8.3\n",
      "15.7\n",
      "10.4\n",
      "13.6\n",
      "20.7\n",
      "27.7\n",
      "22.2\n"
     ]
    }
   ],
   "source": [
    "import sqlite3\n",
    "\n",
    "# Creating a new database\n",
    "conn = sqlite3.connect('ps2.db')\n",
    "cursor = conn.cursor()\n",
    "cursor.execute(\"DROP TABLE if exists weather_data \") # dropping table weather_data if it already exists\n",
    "# Creating the table\n",
    "cursor.execute('''CREATE TABLE weather_data (\n",
    "                    city TEXT,\n",
    "                    country TEXT,\n",
    "                    season TEXT,\n",
    "                    temperature_c REAL,\n",
    "                    rainfall_mm REAL\n",
    "                )''')\n",
    "\n",
    "# Inserting the data into the table\n",
    "w_data = [('Mumbai', 'India', 'Winter', 24.8, 5.9),\n",
    "        ('Mumbai', 'India', 'Spring', 28.4, 16.2),\n",
    "        ('Mumbai', 'India', 'Summer', 27.9, 1549.4),\n",
    "        ('Mumbai', 'India', 'Fall', 27.6, 346.0),\n",
    "        ('London', 'United Kingdom', 'Winter', 4.2, 207.7),\n",
    "        ('London', 'United Kingdom', 'Spring', 8.3, 169.6),\n",
    "        ('London', 'United Kingdom', 'Summer', 15.7, 157.0),\n",
    "        ('London', 'United Kingdom', 'Fall', 10.4, 218.5),\n",
    "        ('Cairo', 'Egypt', 'Winter', 13.6, 16.5),\n",
    "        ('Cairo', 'Egypt', 'Spring', 20.7, 6.5),\n",
    "        ('Cairo', 'Egypt', 'Summer', 27.7, 0.1),\n",
    "        ('Cairo', 'Egypt', 'Fall', 22.2, 4.5)]\n",
    "\n",
    "cursor.executemany('INSERT INTO weather_data VALUES (?, ?, ?, ?, ?)', w_data)\n",
    "\n",
    "# Committing the changes\n",
    "conn.commit()\n",
    "\n",
    "cursor.execute(\"SELECT temperature_c FROM weather_data\")\n",
    "all_temperature_data = cursor.fetchall()\n",
    "print(\"a) All the temperature column data.\\n\")\n",
    "for row in all_temperature_data:\n",
    "    print(row[0])"
   ]
  },
  {
   "cell_type": "code",
   "execution_count": 19,
   "id": "ae97880c",
   "metadata": {},
   "outputs": [
    {
     "name": "stdout",
     "output_type": "stream",
     "text": [
      "b) All the cities, but without repetition.\n",
      "\n",
      "Mumbai\n",
      "London\n",
      "Cairo\n"
     ]
    }
   ],
   "source": [
    "cursor.execute(\"SELECT distinct city FROM weather_data\")\n",
    "distinct_city_data = cursor.fetchall()\n",
    "print(\"b) All the cities, but without repetition.\\n\")\n",
    "for row in distinct_city_data:\n",
    "    print(row[0])"
   ]
  },
  {
   "cell_type": "code",
   "execution_count": 22,
   "id": "85481ecb",
   "metadata": {},
   "outputs": [
    {
     "name": "stdout",
     "output_type": "stream",
     "text": [
      "c) All the records for India.\n",
      "\n",
      "('Mumbai', 'India', 'Winter', 24.8, 5.9)\n",
      "('Mumbai', 'India', 'Spring', 28.4, 16.2)\n",
      "('Mumbai', 'India', 'Summer', 27.9, 1549.4)\n",
      "('Mumbai', 'India', 'Fall', 27.6, 346.0)\n"
     ]
    }
   ],
   "source": [
    "cursor.execute(\"SELECT * FROM weather_data where country = 'India'\")\n",
    "india_data = cursor.fetchall()\n",
    "print(\"c) All the records for India.\\n\")\n",
    "for row in india_data:\n",
    "    print(row)"
   ]
  },
  {
   "cell_type": "code",
   "execution_count": 23,
   "id": "7ab3b6e4",
   "metadata": {},
   "outputs": [
    {
     "name": "stdout",
     "output_type": "stream",
     "text": [
      "d) All the Fall records..\n",
      "\n",
      "('Mumbai', 'India', 'Fall', 27.6, 346.0)\n",
      "('London', 'United Kingdom', 'Fall', 10.4, 218.5)\n",
      "('Cairo', 'Egypt', 'Fall', 22.2, 4.5)\n"
     ]
    }
   ],
   "source": [
    "cursor.execute(\"SELECT * FROM weather_data where season = 'Fall'\")\n",
    "all_fall_data = cursor.fetchall()\n",
    "print(\"d) All the Fall records..\\n\")\n",
    "for row in all_fall_data:\n",
    "    print(row)"
   ]
  },
  {
   "cell_type": "code",
   "execution_count": 25,
   "id": "0c411ebd",
   "metadata": {},
   "outputs": [
    {
     "name": "stdout",
     "output_type": "stream",
     "text": [
      "e) The city, country, and season for which the average rainfall is between 200 and 400 millimeters.\n",
      "\n",
      "('Mumbai', 'India', 'Fall')\n",
      "('London', 'United Kingdom', 'Winter')\n",
      "('London', 'United Kingdom', 'Fall')\n"
     ]
    }
   ],
   "source": [
    "cursor.execute(\"SELECT city, country, season FROM weather_data where rainfall_mm between 200 and 400\")\n",
    "rainfall = cursor.fetchall()\n",
    "print(\"e) The city, country, and season for which the average rainfall is between 200 and 400 millimeters.\\n\")\n",
    "for row in rainfall:\n",
    "    print(row)"
   ]
  },
  {
   "cell_type": "code",
   "execution_count": 29,
   "id": "ac760578",
   "metadata": {},
   "outputs": [
    {
     "name": "stdout",
     "output_type": "stream",
     "text": [
      "f) The city and country for which the average Fall temperature is above 20 degrees, in increasing temperature order.\n",
      "\n",
      "('Cairo', 'Egypt')\n",
      "('Mumbai', 'India')\n"
     ]
    }
   ],
   "source": [
    "cursor.execute(\"SELECT city, country FROM weather_data where temperature_c > 20 and season = 'Fall' order by temperature_c asc\")\n",
    "rainfall = cursor.fetchall()\n",
    "print(\"f) The city and country for which the average Fall temperature is above 20 degrees, in increasing temperature order.\\n\")\n",
    "for row in rainfall:\n",
    "    print(row)"
   ]
  },
  {
   "cell_type": "code",
   "execution_count": 34,
   "id": "5304d26e",
   "metadata": {},
   "outputs": [
    {
     "name": "stdout",
     "output_type": "stream",
     "text": [
      "g) The total annual rainfall for Cairo: 27.6\n"
     ]
    }
   ],
   "source": [
    "cursor.execute(\"SELECT sum(rainfall_mm) FROM weather_data where city='Cairo'\")\n",
    "cairo_rainfall = cursor.fetchone()\n",
    "print(f\"g) The total annual rainfall for Cairo: {cairo_rainfall[0]}\")"
   ]
  },
  {
   "cell_type": "code",
   "execution_count": 38,
   "id": "3b1e2f87",
   "metadata": {},
   "outputs": [
    {
     "name": "stdout",
     "output_type": "stream",
     "text": [
      "h) The total rainfall for each season.\n",
      "\n",
      "('Fall', 569.0)\n",
      "('Spring', 192.29999999999998)\n",
      "('Summer', 1706.5)\n",
      "('Winter', 230.1)\n"
     ]
    }
   ],
   "source": [
    "cursor.execute(\"SELECT season, sum(rainfall_mm) FROM weather_data group by season\")\n",
    "season_rainfall = cursor.fetchall()\n",
    "print(\"h) The total rainfall for each season.\\n\")\n",
    "for row in season_rainfall:\n",
    "    print(row)"
   ]
  },
  {
   "cell_type": "markdown",
   "id": "dfa5b86f",
   "metadata": {},
   "source": [
    "# Question 9\n",
    "\n",
    ". Suppose list words is defined as follows:</br>\n",
    "words = ['The', 'quick', 'brown', 'fox', 'jumps', 'over','the', 'lazy', 'dog']</br>\n",
    "Write list comprehension expressions that use list words and generate the following\n",
    "lists:</br>\n",
    "a) ['THE', 'QUICK', 'BROWN', 'FOX', 'JUMPS', 'OVER', 'THE',\n",
    "'LAZY', 'DOG']</br>\n",
    "b) ['the', 'quick', 'brown', 'fox', 'jumps', 'over', 'the',\n",
    "'lazy', 'dog']</br>\n",
    "c) [3, 5, 5, 3, 5, 4, 3, 4, 3] (the list of lengths of words in list\n",
    "words).</br>\n",
    "d) [['THE', 'the', 3], ['QUICK', 'quick', 5], ['BROWN',\n",
    "'brown', 5], ['FOX', 'fox', 3], ['JUMPS', 'jumps', 5],\n",
    "['OVER', 'over', 4], ['THE', 'the', 3], ['LAZY', 'lazy',\n",
    "4], ['DOG', 'dog', 3]] (the list containing a list for every word of list\n",
    "words, where each list contains the word in uppercase and lowercase and the\n",
    "length of the word.)</br>\n",
    "e) ['The', 'quick', 'brown', 'fox', 'jumps', 'over', 'the',\n",
    "'lazy', 'dog'] (the list of words in list words containing 4 or more\n",
    "characters.)"
   ]
  },
  {
   "cell_type": "code",
   "execution_count": 40,
   "id": "2c4c1569",
   "metadata": {},
   "outputs": [
    {
     "name": "stdout",
     "output_type": "stream",
     "text": [
      "a) ['THE', 'QUICK', 'BROWN', 'FOX', 'JUMPS', 'OVER', 'THE', 'LAZY', 'DOG']\n",
      "\n",
      "['THE', 'QUICK', 'BROWN', 'FOX', 'JUMPS', 'OVER', 'THE', 'LAZY', 'DOG']\n"
     ]
    }
   ],
   "source": [
    "words = ['The', 'quick', 'brown', 'fox', 'jumps', 'over','the', 'lazy', 'dog']\n",
    "print(\"a) ['THE', 'QUICK', 'BROWN', 'FOX', 'JUMPS', 'OVER', 'THE', 'LAZY', 'DOG']\\n\")\n",
    "a = [word.upper() for word in words]\n",
    "print(a)"
   ]
  },
  {
   "cell_type": "code",
   "execution_count": 41,
   "id": "4df2aa31",
   "metadata": {},
   "outputs": [
    {
     "name": "stdout",
     "output_type": "stream",
     "text": [
      "b) ['the', 'quick', 'brown', 'fox', 'jumps', 'over', 'the', 'lazy', 'dog']\n",
      "\n",
      "['the', 'quick', 'brown', 'fox', 'jumps', 'over', 'the', 'lazy', 'dog']\n"
     ]
    }
   ],
   "source": [
    "words = ['The', 'quick', 'brown', 'fox', 'jumps', 'over','the', 'lazy', 'dog']\n",
    "print(\"b) ['the', 'quick', 'brown', 'fox', 'jumps', 'over', 'the', 'lazy', 'dog']\\n\")\n",
    "a = [word.lower() for word in words]\n",
    "print(a)"
   ]
  },
  {
   "cell_type": "code",
   "execution_count": 44,
   "id": "3ea86f73",
   "metadata": {},
   "outputs": [
    {
     "name": "stdout",
     "output_type": "stream",
     "text": [
      "c) [3, 5, 5, 3, 5, 4, 3, 4, 3] (the list of lengths of words in list words).\n",
      "\n",
      "[3, 5, 5, 3, 5, 4, 3, 4, 3]\n"
     ]
    }
   ],
   "source": [
    "words = ['The', 'quick', 'brown', 'fox', 'jumps', 'over','the', 'lazy', 'dog']\n",
    "print(\"c) [3, 5, 5, 3, 5, 4, 3, 4, 3] (the list of lengths of words in list words).\\n\")\n",
    "a = [len(word) for word in words]\n",
    "print(a)"
   ]
  },
  {
   "cell_type": "code",
   "execution_count": 45,
   "id": "87e88ddc",
   "metadata": {},
   "outputs": [
    {
     "name": "stdout",
     "output_type": "stream",
     "text": [
      "d) [['THE', 'the', 3], ['QUICK', 'quick', 5], ['BROWN', 'brown', 5], ['FOX', 'fox', 3], ['JUMPS', 'jumps', 5], ['OVER', 'over', 4], ['THE', 'the', 3], ['LAZY', 'lazy', 4], ['DOG', 'dog', 3]] (the list containing a list for every word of list words, where each list contains the word in uppercase and lowercase and the length of the word.).\n",
      "\n",
      "[['THE', 'the', 3], ['QUICK', 'quick', 5], ['BROWN', 'brown', 5], ['FOX', 'fox', 3], ['JUMPS', 'jumps', 5], ['OVER', 'over', 4], ['THE', 'the', 3], ['LAZY', 'lazy', 4], ['DOG', 'dog', 3]]\n"
     ]
    }
   ],
   "source": [
    "words = ['The', 'quick', 'brown', 'fox', 'jumps', 'over','the', 'lazy', 'dog']\n",
    "print(\"d) [['THE', 'the', 3], ['QUICK', 'quick', 5], ['BROWN', 'brown', 5], ['FOX', 'fox', 3], ['JUMPS', 'jumps', 5], ['OVER', 'over', 4], ['THE', 'the', 3], ['LAZY', 'lazy', 4], ['DOG', 'dog', 3]] (the list containing a list for every word of list words, where each list contains the word in uppercase and lowercase and the length of the word.).\\n\")\n",
    "a = [[word.upper(),word.lower(),len(word)] for word in words]\n",
    "print(a)"
   ]
  },
  {
   "cell_type": "code",
   "execution_count": 47,
   "id": "e2100f51",
   "metadata": {},
   "outputs": [
    {
     "name": "stdout",
     "output_type": "stream",
     "text": [
      "e) ['The', 'quick', 'brown', 'fox', 'jumps', 'over', 'the', 'lazy', 'dog'] (the list of words in list words containing 4 or more characters.)\n",
      "\n",
      "['quick', 'brown', 'jumps', 'over', 'lazy']\n"
     ]
    }
   ],
   "source": [
    "words = ['The', 'quick', 'brown', 'fox', 'jumps', 'over','the', 'lazy', 'dog']\n",
    "print(\"e) ['The', 'quick', 'brown', 'fox', 'jumps', 'over', 'the', 'lazy', 'dog'] (the list of words in list words containing 4 or more characters.)\\n\")\n",
    "a = [word.lower() for word in words if len(word)>=4]\n",
    "print(a)"
   ]
  },
  {
   "cell_type": "code",
   "execution_count": null,
   "id": "d796d035",
   "metadata": {},
   "outputs": [],
   "source": []
  }
 ],
 "metadata": {
  "kernelspec": {
   "display_name": "Python 3 (ipykernel)",
   "language": "python",
   "name": "python3"
  },
  "language_info": {
   "codemirror_mode": {
    "name": "ipython",
    "version": 3
   },
   "file_extension": ".py",
   "mimetype": "text/x-python",
   "name": "python",
   "nbconvert_exporter": "python",
   "pygments_lexer": "ipython3",
   "version": "3.11.5"
  }
 },
 "nbformat": 4,
 "nbformat_minor": 5
}
